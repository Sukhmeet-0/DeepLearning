{
 "cells": [
  {
   "cell_type": "code",
   "execution_count": 1,
   "id": "a26aa31e-abca-403b-a0a2-3d1be17a5922",
   "metadata": {},
   "outputs": [],
   "source": [
    "import pandas as pd\n",
    "import matplotlib.pyplot as plt"
   ]
  },
  {
   "cell_type": "code",
   "execution_count": 3,
   "id": "6743e47f-2045-4378-99ce-9a9115914524",
   "metadata": {},
   "outputs": [],
   "source": [
    "data = pd.read_csv('Social_Network_ads.csv')"
   ]
  },
  {
   "cell_type": "code",
   "execution_count": 4,
   "id": "ba54a51b-7c2f-45c1-ac86-2a6a663f924f",
   "metadata": {},
   "outputs": [],
   "source": [
    "x=data.iloc[:,:-1].values\n",
    "y=data.iloc[:,-1].values"
   ]
  },
  {
   "cell_type": "code",
   "execution_count": 5,
   "id": "e594ef66-7fa5-4871-ab5f-1f4bce69cd42",
   "metadata": {},
   "outputs": [],
   "source": [
    "from sklearn.model_selection import train_test_split\n",
    "xtrain,xtest,ytrain,ytest=train_test_split(x,y,test_size=.2)"
   ]
  },
  {
   "cell_type": "code",
   "execution_count": 6,
   "id": "7186d0be-4e80-40bd-aa51-48992c96b38b",
   "metadata": {},
   "outputs": [],
   "source": [
    "from sklearn.preprocessing import StandardScaler\n",
    "sc = StandardScaler()"
   ]
  },
  {
   "cell_type": "code",
   "execution_count": 7,
   "id": "f729ddf9-b1f6-4f9c-9268-0503ea64d8bd",
   "metadata": {},
   "outputs": [],
   "source": [
    "xtrain=sc.fit_transform(xtrain)\n",
    "xtest=sc.transform(xtest)"
   ]
  },
  {
   "cell_type": "code",
   "execution_count": 11,
   "id": "0fa389b0-a15c-4d70-b161-b14247a97d35",
   "metadata": {},
   "outputs": [],
   "source": [
    "from sklearn.linear_model import LogisticRegression\n",
    "lr = LogisticRegression()\n",
    "lr.fit(xtrain,ytrain)\n",
    "ypred=lr.predict(xtest)"
   ]
  },
  {
   "cell_type": "code",
   "execution_count": 12,
   "id": "02535240-4c84-4b74-8ba8-3347453e2171",
   "metadata": {},
   "outputs": [],
   "source": [
    "from sklearn.neighbors import KNeighborsClassifier"
   ]
  },
  {
   "cell_type": "code",
   "execution_count": 14,
   "id": "a1f96c8f-fdb5-48e1-9f97-117bb6e3e0c9",
   "metadata": {},
   "outputs": [],
   "source": [
    "knn = KNeighborsClassifier(n_neighbors=5,metric='minkowski', p=2)\n",
    "knn.fit(xtrain,ytrain)\n",
    "knp=knn.predict(xtest)"
   ]
  },
  {
   "cell_type": "code",
   "execution_count": 17,
   "id": "88b9bbc9-a921-4086-8b5e-5d6ca9225fd0",
   "metadata": {},
   "outputs": [
    {
     "data": {
      "text/plain": [
       "0.8875"
      ]
     },
     "execution_count": 17,
     "metadata": {},
     "output_type": "execute_result"
    }
   ],
   "source": [
    "from sklearn.metrics import confusion_matrix, accuracy_score\n",
    "accuracy_score(knp,ytest)"
   ]
  },
  {
   "cell_type": "code",
   "execution_count": 18,
   "id": "58672135-b156-4e5f-af58-e97258461f70",
   "metadata": {},
   "outputs": [
    {
     "name": "stdout",
     "output_type": "stream",
     "text": [
      "[[45  6]\n",
      " [ 3 26]]\n"
     ]
    }
   ],
   "source": [
    "print(confusion_matrix(knp,ytest))"
   ]
  },
  {
   "cell_type": "code",
   "execution_count": null,
   "id": "2cb61efa-74e7-429b-b8c0-e6f358577e98",
   "metadata": {},
   "outputs": [],
   "source": []
  }
 ],
 "metadata": {
  "kernelspec": {
   "display_name": "Python 3 (ipykernel)",
   "language": "python",
   "name": "python3"
  },
  "language_info": {
   "codemirror_mode": {
    "name": "ipython",
    "version": 3
   },
   "file_extension": ".py",
   "mimetype": "text/x-python",
   "name": "python",
   "nbconvert_exporter": "python",
   "pygments_lexer": "ipython3",
   "version": "3.11.6"
  }
 },
 "nbformat": 4,
 "nbformat_minor": 5
}
