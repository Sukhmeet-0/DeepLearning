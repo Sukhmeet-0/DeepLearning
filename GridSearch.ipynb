{
 "cells": [
  {
   "cell_type": "code",
   "execution_count": 6,
   "metadata": {},
   "outputs": [
    {
     "name": "stdout",
     "output_type": "stream",
     "text": [
      "[[46  1]\n",
      " [ 3 30]]\n",
      "0.95\n",
      "Accuracies : 90.00 %\n"
     ]
    }
   ],
   "source": [
    "# %%\n",
    "import pandas as pd \n",
    "\n",
    "# %%\n",
    "data = pd.read_csv('Social_Network_Ads.csv')\n",
    "x = data.iloc[:,:-1].values\n",
    "y = data.iloc[:,-1].values\n",
    "\n",
    "# %%\n",
    "from sklearn.model_selection import train_test_split\n",
    "xtrain,xtest,ytrain,ytest=train_test_split(x,y,test_size=.2)\n",
    "\n",
    "# %%\n",
    "from sklearn.preprocessing import StandardScaler\n",
    "sc = StandardScaler()\n",
    "xtrain = sc.fit_transform(xtrain)\n",
    "xtest = sc.transform(xtest)\n",
    "\n",
    "# %%\n",
    "from sklearn.svm import SVC \n",
    "model = SVC(kernel='rbf')\n",
    "model.fit(xtrain,ytrain)\n",
    "res = model.predict(xtest)\n",
    "from sklearn.metrics import confusion_matrix,accuracy_score\n",
    "print(confusion_matrix(res,ytest))\n",
    "print(accuracy_score(res,ytest))\n",
    "\n",
    "# %%\n",
    "from sklearn.model_selection import GridSearchCV\n",
    "parameters = [{'C':[.25,.5,.75,1],'kernel':['linear']},\n",
    "              {'C':[.25,.5,.75,1],'kernel':['rbf'],'gamma':[.1,.2,.3,.4,.5,.6,.7,.8,.9]}]\n",
    "gs = GridSearchCV(estimator=model,param_grid=parameters,scoring='accuracy',cv=10,n_jobs=-1)\n",
    "gs.fit(xtrain,ytrain)\n",
    "Accuracies = gs.best_score_\n",
    "best_parameters = gs.best_params_\n",
    "print('Accuracies : {:.2f} %'.format(Accuracies.mean()*100))\n",
    "\n",
    "\n",
    "# %%\n",
    "\n",
    "\n",
    "\n"
   ]
  },
  {
   "cell_type": "code",
   "execution_count": null,
   "metadata": {},
   "outputs": [],
   "source": []
  }
 ],
 "metadata": {
  "kernelspec": {
   "display_name": "Python 3",
   "language": "python",
   "name": "python3"
  },
  "language_info": {
   "codemirror_mode": {
    "name": "ipython",
    "version": 3
   },
   "file_extension": ".py",
   "mimetype": "text/x-python",
   "name": "python",
   "nbconvert_exporter": "python",
   "pygments_lexer": "ipython3",
   "version": "3.11.8"
  }
 },
 "nbformat": 4,
 "nbformat_minor": 2
}
