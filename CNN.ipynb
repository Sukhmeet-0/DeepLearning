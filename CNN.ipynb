{
 "cells": [
  {
   "cell_type": "code",
   "execution_count": 2,
   "metadata": {},
   "outputs": [],
   "source": [
    "import pandas as pd \n",
    "import numpy as np \n",
    "import matplotlib.pyplot as plt \n",
    "import tensorflow as tf \n",
    "from keras.preprocessing.image import ImageDataGenerator"
   ]
  },
  {
   "cell_type": "code",
   "execution_count": 3,
   "metadata": {},
   "outputs": [],
   "source": [
    "traindatagen = ImageDataGenerator(rescale=1./255,shear_range=.2,zoom_range=.2,horizontal_flip=True)"
   ]
  },
  {
   "cell_type": "code",
   "execution_count": 22,
   "metadata": {},
   "outputs": [
    {
     "name": "stdout",
     "output_type": "stream",
     "text": [
      "Found 8000 images belonging to 2 classes.\n"
     ]
    }
   ],
   "source": [
    "trainingset = traindatagen.flow_from_directory(r'C:\\Users\\sukhm\\Desktop\\machineLearning\\dataset\\training_set',target_size=(64,64),batch_size=32,class_mode='binary')"
   ]
  },
  {
   "cell_type": "code",
   "execution_count": 23,
   "metadata": {},
   "outputs": [],
   "source": [
    "testdatagen = ImageDataGenerator(rescale=1./255)"
   ]
  },
  {
   "cell_type": "code",
   "execution_count": 24,
   "metadata": {},
   "outputs": [
    {
     "name": "stdout",
     "output_type": "stream",
     "text": [
      "Found 2000 images belonging to 2 classes.\n"
     ]
    }
   ],
   "source": [
    "testset = testdatagen.flow_from_directory(\n",
    "    r'C:\\Users\\sukhm\\Desktop\\machineLearning\\dataset\\test_set',\n",
    "    target_size=(64,64),\n",
    "    batch_size=32,\n",
    "    class_mode='binary'\n",
    ")"
   ]
  },
  {
   "cell_type": "code",
   "execution_count": 25,
   "metadata": {},
   "outputs": [],
   "source": [
    "cnn = tf.keras.models.Sequential()"
   ]
  },
  {
   "cell_type": "code",
   "execution_count": 26,
   "metadata": {},
   "outputs": [],
   "source": [
    "#convolutional\n",
    "cnn.add(tf.keras.layers.Conv2D(filters=32,kernel_size=3,activation='relu',input_shape=[64,64,3]))"
   ]
  },
  {
   "cell_type": "code",
   "execution_count": 27,
   "metadata": {},
   "outputs": [],
   "source": [
    "cnn.add(tf.keras.layers.MaxPool2D(pool_size=(2,2),strides=2))"
   ]
  },
  {
   "cell_type": "code",
   "execution_count": 28,
   "metadata": {},
   "outputs": [],
   "source": [
    "#pooling\n",
    "cnn.add(tf.keras.layers.Conv2D(filters=32,kernel_size=3,activation='relu'))\n",
    "cnn.add(tf.keras.layers.MaxPool2D(pool_size=(2,2),strides=2))"
   ]
  },
  {
   "cell_type": "code",
   "execution_count": 29,
   "metadata": {},
   "outputs": [],
   "source": [
    "#flattening\n",
    "cnn.add(tf.keras.layers.Flatten())"
   ]
  },
  {
   "cell_type": "code",
   "execution_count": 30,
   "metadata": {},
   "outputs": [],
   "source": [
    "#full connection\n",
    "cnn.add(tf.keras.layers.Dense(units=128,activation='relu'))"
   ]
  },
  {
   "cell_type": "code",
   "execution_count": 31,
   "metadata": {},
   "outputs": [],
   "source": [
    "#output\n",
    "cnn.add(tf.keras.layers.Dense(units=1,activation='sigmoid'))"
   ]
  },
  {
   "cell_type": "code",
   "execution_count": 32,
   "metadata": {},
   "outputs": [],
   "source": [
    "cnn.compile(optimizer='adam',loss='binary_crossentropy',metrics=['accuracy'])"
   ]
  },
  {
   "cell_type": "code",
   "execution_count": 33,
   "metadata": {},
   "outputs": [
    {
     "name": "stdout",
     "output_type": "stream",
     "text": [
      "Epoch 1/25\n",
      "WARNING:tensorflow:From c:\\Users\\sukhm\\AppData\\Local\\Programs\\Python\\Python311\\Lib\\site-packages\\keras\\src\\utils\\tf_utils.py:492: The name tf.ragged.RaggedTensorValue is deprecated. Please use tf.compat.v1.ragged.RaggedTensorValue instead.\n",
      "\n",
      "WARNING:tensorflow:From c:\\Users\\sukhm\\AppData\\Local\\Programs\\Python\\Python311\\Lib\\site-packages\\keras\\src\\engine\\base_layer_utils.py:384: The name tf.executing_eagerly_outside_functions is deprecated. Please use tf.compat.v1.executing_eagerly_outside_functions instead.\n",
      "\n",
      "250/250 [==============================] - 135s 536ms/step - loss: 0.6806 - accuracy: 0.5601 - val_loss: 0.6214 - val_accuracy: 0.6545\n",
      "Epoch 2/25\n",
      "250/250 [==============================] - 78s 310ms/step - loss: 0.6248 - accuracy: 0.6484 - val_loss: 0.6270 - val_accuracy: 0.6340\n",
      "Epoch 3/25\n",
      "250/250 [==============================] - 36s 143ms/step - loss: 0.5855 - accuracy: 0.6914 - val_loss: 0.6143 - val_accuracy: 0.6785\n",
      "Epoch 4/25\n",
      "250/250 [==============================] - 32s 128ms/step - loss: 0.5431 - accuracy: 0.7235 - val_loss: 0.5592 - val_accuracy: 0.7295\n",
      "Epoch 5/25\n",
      "250/250 [==============================] - 33s 133ms/step - loss: 0.5200 - accuracy: 0.7439 - val_loss: 0.5163 - val_accuracy: 0.7455\n",
      "Epoch 6/25\n",
      "250/250 [==============================] - 37s 149ms/step - loss: 0.5037 - accuracy: 0.7594 - val_loss: 0.5507 - val_accuracy: 0.7355\n",
      "Epoch 7/25\n",
      "250/250 [==============================] - 38s 151ms/step - loss: 0.4816 - accuracy: 0.7674 - val_loss: 0.5202 - val_accuracy: 0.7490\n",
      "Epoch 8/25\n",
      "250/250 [==============================] - 35s 141ms/step - loss: 0.4727 - accuracy: 0.7717 - val_loss: 0.4935 - val_accuracy: 0.7595\n",
      "Epoch 9/25\n",
      "250/250 [==============================] - 35s 139ms/step - loss: 0.4484 - accuracy: 0.7871 - val_loss: 0.5042 - val_accuracy: 0.7810\n",
      "Epoch 10/25\n",
      "250/250 [==============================] - 37s 146ms/step - loss: 0.4373 - accuracy: 0.7931 - val_loss: 0.4866 - val_accuracy: 0.7710\n",
      "Epoch 11/25\n",
      "250/250 [==============================] - 33s 132ms/step - loss: 0.4273 - accuracy: 0.8036 - val_loss: 0.4577 - val_accuracy: 0.7900\n",
      "Epoch 12/25\n",
      "250/250 [==============================] - 37s 147ms/step - loss: 0.4097 - accuracy: 0.8112 - val_loss: 0.4646 - val_accuracy: 0.7910\n",
      "Epoch 13/25\n",
      "250/250 [==============================] - 40s 158ms/step - loss: 0.3977 - accuracy: 0.8181 - val_loss: 0.4544 - val_accuracy: 0.8070\n",
      "Epoch 14/25\n",
      "250/250 [==============================] - 39s 155ms/step - loss: 0.3900 - accuracy: 0.8257 - val_loss: 0.4326 - val_accuracy: 0.8075\n",
      "Epoch 15/25\n",
      "250/250 [==============================] - 38s 150ms/step - loss: 0.3674 - accuracy: 0.8365 - val_loss: 0.5118 - val_accuracy: 0.7905\n",
      "Epoch 16/25\n",
      "250/250 [==============================] - 36s 144ms/step - loss: 0.3590 - accuracy: 0.8397 - val_loss: 0.4852 - val_accuracy: 0.7910\n",
      "Epoch 17/25\n",
      "250/250 [==============================] - 34s 135ms/step - loss: 0.3434 - accuracy: 0.8459 - val_loss: 0.4635 - val_accuracy: 0.8085\n",
      "Epoch 18/25\n",
      "250/250 [==============================] - 32s 128ms/step - loss: 0.3277 - accuracy: 0.8576 - val_loss: 0.5275 - val_accuracy: 0.7890\n",
      "Epoch 19/25\n",
      "250/250 [==============================] - 38s 151ms/step - loss: 0.3130 - accuracy: 0.8660 - val_loss: 0.4715 - val_accuracy: 0.8095\n",
      "Epoch 20/25\n",
      "250/250 [==============================] - 34s 137ms/step - loss: 0.3077 - accuracy: 0.8675 - val_loss: 0.4745 - val_accuracy: 0.8150\n",
      "Epoch 21/25\n",
      "250/250 [==============================] - 32s 128ms/step - loss: 0.2876 - accuracy: 0.8780 - val_loss: 0.4671 - val_accuracy: 0.8055\n",
      "Epoch 22/25\n",
      "250/250 [==============================] - 31s 125ms/step - loss: 0.2747 - accuracy: 0.8820 - val_loss: 0.4910 - val_accuracy: 0.8015\n",
      "Epoch 23/25\n",
      "250/250 [==============================] - 32s 128ms/step - loss: 0.2672 - accuracy: 0.8894 - val_loss: 0.5783 - val_accuracy: 0.7810\n",
      "Epoch 24/25\n",
      "250/250 [==============================] - 31s 125ms/step - loss: 0.2541 - accuracy: 0.8954 - val_loss: 0.5360 - val_accuracy: 0.7895\n",
      "Epoch 25/25\n",
      "250/250 [==============================] - 35s 139ms/step - loss: 0.2374 - accuracy: 0.8997 - val_loss: 0.5116 - val_accuracy: 0.8065\n"
     ]
    },
    {
     "data": {
      "text/plain": [
       "<keras.src.callbacks.History at 0x19799500310>"
      ]
     },
     "execution_count": 33,
     "metadata": {},
     "output_type": "execute_result"
    }
   ],
   "source": [
    "cnn.fit(x=trainingset,validation_data=testset,epochs=25)"
   ]
  },
  {
   "cell_type": "code",
   "execution_count": 34,
   "metadata": {},
   "outputs": [],
   "source": [
    "from keras.preprocessing import image\n",
    "img = image.load_img(r'C:\\Users\\sukhm\\Desktop\\machineLearning\\dataset\\1.jpg',target_size=(64,64))"
   ]
  },
  {
   "cell_type": "code",
   "execution_count": 35,
   "metadata": {},
   "outputs": [
    {
     "name": "stdout",
     "output_type": "stream",
     "text": [
      "1/1 [==============================] - 0s 162ms/step\n",
      "cat\n"
     ]
    }
   ],
   "source": [
    "img = image.img_to_array(img)\n",
    "img = np.expand_dims(img,axis=0)\n",
    "res = cnn.predict(img)\n",
    "trainingset.class_indices\n",
    "if res[0][0] == 1:\n",
    "    prediction = 'dog'\n",
    "else:\n",
    "    prediction = 'cat'\n",
    "print(prediction)"
   ]
  },
  {
   "cell_type": "code",
   "execution_count": null,
   "metadata": {},
   "outputs": [],
   "source": []
  }
 ],
 "metadata": {
  "kernelspec": {
   "display_name": "Python 3",
   "language": "python",
   "name": "python3"
  },
  "language_info": {
   "codemirror_mode": {
    "name": "ipython",
    "version": 3
   },
   "file_extension": ".py",
   "mimetype": "text/x-python",
   "name": "python",
   "nbconvert_exporter": "python",
   "pygments_lexer": "ipython3",
   "version": "3.11.8"
  }
 },
 "nbformat": 4,
 "nbformat_minor": 2
}
